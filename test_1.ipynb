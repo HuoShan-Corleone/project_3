{
 "cells": [
  {
   "cell_type": "code",
   "execution_count": 3,
   "metadata": {
    "collapsed": false
   },
   "outputs": [
    {
     "name": "stdout",
     "output_type": "stream",
     "text": [
      "dict_keys(['class', '25', '30', '10', '40', '35', '20', '15', '45'])\n"
     ]
    }
   ],
   "source": [
    "numberOfBuckets = 10\n",
    "data = {}\n",
    "with open('mpgTrainingSet_1.txt') as f:\n",
    "    lines = f.readlines()\n",
    "for line in lines:\n",
    "    category = line.split()[0]\n",
    "    data.setdefault(category, [])\n",
    "    data[category].append(line)\n",
    "print(data.keys())"
   ]
  },
  {
   "cell_type": "code",
   "execution_count": 12,
   "metadata": {
    "collapsed": false
   },
   "outputs": [
    {
     "data": {
      "text/plain": [
       "['class\\tnum\\tnum\\tnum\\tnum\\tnum\\tcomment\\n',\n",
       " '25\\t4\\t110.0\\t87.00\\t2672\\t17.5\\tpeugeot 504\\n',\n",
       " '25\\t4\\t122.0\\t96.00\\t2300\\t15.5\\tplymouth arrow gs\\n',\n",
       " '25\\t4\\t90.00\\t71.00\\t2223\\t16.5\\tvolkswagen dasher\\n',\n",
       " '25\\t4\\t101.0\\t83.00\\t2202\\t15.3\\trenault 12tl\\n',\n",
       " '25\\t4\\t98.00\\t60.00\\t2164\\t22.1\\tchevrolet woody\\n',\n",
       " '25\\t4\\t113.0\\t95.00\\t2372\\t15.0\\ttoyota corona mark ii\\n',\n",
       " '25\\t6\\t173.0\\t115.0\\t2700\\t12.9\\toldsmobile omega brougham\\n',\n",
       " '25\\t4\\t122.0\\t80.00\\t2451\\t16.5\\tford pinto\\n',\n",
       " '30\\t4\\t98.00\\t83.00\\t2219\\t16.5\\taudi fox\\n',\n",
       " '30\\t4\\t71.00\\t65.00\\t1836\\t21.0\\ttoyota corolla 1200\\n',\n",
       " '30\\t4\\t112.0\\t88.00\\t2605\\t19.6\\tchevrolet cavalier\\n',\n",
       " '30\\t4\\t107.0\\t86.00\\t2464\\t15.5\\tfiat 131\\n',\n",
       " '30\\t4\\t98.00\\t70.00\\t2120\\t15.5\\tchevrolet chevette\\n',\n",
       " '30\\t4\\t98.00\\t68.00\\t2135\\t16.6\\thonda accord lx\\n',\n",
       " '30\\t4\\t89.00\\t71.00\\t1990\\t14.9\\tvolkswagen scirocco\\n',\n",
       " '10\\t8\\t429.0\\t208.0\\t4633\\t11.0\\tmercury marquis\\n',\n",
       " '10\\t8\\t400.0\\t167.0\\t4906\\t12.5\\tford country\\n',\n",
       " '40\\t4\\t89.00\\t60.00\\t1968\\t18.8\\ttoyota corolla tercel\\n',\n",
       " '40\\t4\\t89.00\\t62.00\\t2050\\t17.3\\ttoyota tercel\\n',\n",
       " '35\\t6\\t168.0\\t132.0\\t2910\\t11.4\\tdatsun 280-zx\\n',\n",
       " '35\\t4\\t105.0\\t74.00\\t1980\\t15.3\\tvolkswagen rabbit l\\n',\n",
       " '35\\t4\\t98.00\\t80.00\\t1915\\t14.4\\tdodge colt hatchback custom\\n',\n",
       " '35\\t4\\t105.0\\t74.00\\t2190\\t14.2\\tvolkswagen jetta\\n',\n",
       " '20\\t4\\t121.0\\t115.0\\t2795\\t15.7\\tsaab 99gle\\n',\n",
       " '20\\t6\\t232.0\\t112.0\\t2835\\t14.7\\tford granada l\\n',\n",
       " '20\\t6\\t232.0\\t90.00\\t3211\\t17.0\\tamc pacer\\n',\n",
       " '20\\t4\\t121.0\\t112.0\\t2933\\t14.5\\tvolvo 145e (sw)\\n',\n",
       " '20\\t6\\t225.0\\t90.00\\t3381\\t18.7\\tdodge aspen\\n',\n",
       " '20\\t8\\t267.0\\t125.0\\t3605\\t15.0\\tchevrolet malibu classic (sw)\\n',\n",
       " '20\\t6\\t225.0\\t85.00\\t3465\\t16.6\\tchrysler lebaron salon\\n',\n",
       " '20\\t6\\t232.0\\t100.0\\t2789\\t15.0\\tamc gremlin\\n',\n",
       " '20\\t6\\t225.0\\t105.0\\t3121\\t16.5\\tplymouth valiant\\n',\n",
       " '20\\t4\\t97.00\\t88.00\\t2279\\t19.0\\ttoyota carina\\n',\n",
       " '15\\t6\\t250.0\\t72.00\\t3158\\t19.5\\tford maverick\\n',\n",
       " '15\\t6\\t163.0\\t125.0\\t3140\\t13.6\\tvolvo 264gl\\n',\n",
       " '15\\t8\\t440.0\\t215.0\\t4312\\t8.5\\tplymouth fury iii\\n',\n",
       " '15\\t8\\t318.0\\t150.0\\t4237\\t14.5\\tplymouth fury gran sedan\\n',\n",
       " '15\\t8\\t360.0\\t170.0\\t4654\\t13.0\\tplymouth custom suburb\\n',\n",
       " '15\\t8\\t400.0\\t190.0\\t4325\\t12.2\\tchrysler cordoba\\n',\n",
       " '15\\t8\\t318.0\\t150.0\\t3777\\t12.5\\tdodge coronet custom\\n',\n",
       " '15\\t8\\t304.0\\t150.0\\t4257\\t15.5\\tamc matador (sw)\\n',\n",
       " '15\\t8\\t318.0\\t150.0\\t3399\\t11.0\\tdodge dart custom\\n',\n",
       " '45\\t4\\t90.00\\t48.00\\t2085\\t21.7\\tvw rabbit c (diesel)\\n']"
      ]
     },
     "execution_count": 12,
     "metadata": {},
     "output_type": "execute_result"
    }
   ],
   "source": [
    "import random\n",
    "buckets = []\n",
    "for i in range(10):\n",
    "    buckets.append([])\n",
    "        \n",
    "for k in data.keys():\n",
    "    random.shuffle(data[k])\n",
    "    bNum = 0\n",
    "    for item in data[k]:\n",
    "        buckets[bNum].append(item)\n",
    "        bNum = (bNum + 1) % numberOfBuckets\n",
    "        tes = []\n",
    "        tes.append(bNum)\n",
    "buckets[0]"
   ]
  },
  {
   "cell_type": "code",
   "execution_count": 13,
   "metadata": {
    "collapsed": true
   },
   "outputs": [],
   "source": [
    "for bNum in range(10):\n",
    "    f = open(\"%s-%02i\" % ('test', bNum + 1), 'w')\n",
    "    for item in buckets[bNum]:\n",
    "        f.write(item)\n",
    "    f.close()"
   ]
  },
  {
   "cell_type": "code",
   "execution_count": null,
   "metadata": {
    "collapsed": true
   },
   "outputs": [],
   "source": []
  }
 ],
 "metadata": {
  "kernelspec": {
   "display_name": "Python 3",
   "language": "python",
   "name": "python3"
  },
  "language_info": {
   "codemirror_mode": {
    "name": "ipython",
    "version": 3
   },
   "file_extension": ".py",
   "mimetype": "text/x-python",
   "name": "python",
   "nbconvert_exporter": "python",
   "pygments_lexer": "ipython3",
   "version": "3.5.3"
  }
 },
 "nbformat": 4,
 "nbformat_minor": 2
}
