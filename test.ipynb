{
 "cells": [
  {
   "cell_type": "code",
   "execution_count": 5,
   "metadata": {
    "collapsed": true
   },
   "outputs": [],
   "source": [
    "f = open('mpgTrainingSet_1.txt')\n",
    "lines = f.readlines()\n",
    "f.close()"
   ]
  },
  {
   "cell_type": "code",
   "execution_count": 6,
   "metadata": {
    "collapsed": false
   },
   "outputs": [],
   "source": [
    "forma = lines[0].strip().split('\\t')\n",
    "data = []\n",
    "for line in lines[1:]:\n",
    "    fields = line.strip().split('\\t')\n",
    "    ignore = []\n",
    "    vector = []\n",
    "    for i in range(len(fields)):\n",
    "        if forma[i] == 'num':\n",
    "            vector.append(float(fields[i]))\n",
    "        elif forma[i] == 'comment':\n",
    "            ignore.append(fields[i])\n",
    "        elif forma[i] == 'class':\n",
    "            classification = fields[i]\n",
    "    data.append((classification, vector, ignore))"
   ]
  },
  {
   "cell_type": "code",
   "execution_count": 7,
   "metadata": {
    "collapsed": false
   },
   "outputs": [
    {
     "name": "stdout",
     "output_type": "stream",
     "text": [
      "392\n"
     ]
    }
   ],
   "source": [
    "print(len(data))"
   ]
  },
  {
   "cell_type": "code",
   "execution_count": 8,
   "metadata": {
    "collapsed": true
   },
   "outputs": [],
   "source": [
    "import random\n",
    "def buckets(filename, bucketName, separator, classColumn):\n",
    "    numberOfBuckets = 10\n",
    "    data = {}\n",
    "    with open(filename) as f:\n",
    "        lines = f.readlines()\n",
    "    for line in lines:\n",
    "        if separator != '\\t':\n",
    "            line = line.replace(separator,'\\t')\n",
    "            category = line.split()[classColumn]\n",
    "            data.setdefault(category, [])\n",
    "            data[category].append(line)\n",
    "            \n",
    "    buckets = []\n",
    "    for i in range(numberOfBuckets):\n",
    "        buckets.append([])\n",
    "        \n",
    "    for k in data.keys():\n",
    "        random.shuffle(data[k])\n",
    "        bNum = 0\n",
    "        print(k)\n",
    "        print(bNum)\n",
    "        for item in data[k]:\n",
    "            buckets[bNum].append(item)\n",
    "            bNum = (bNum + 1) % numberOfBuckets\n",
    "            tes = []\n",
    "            tes.append(bNum)\n",
    "            print(max(tes))\n",
    "    for bNum in range(numberOfBuckets):\n",
    "        f = open(\"%s-%02i\" % (bucketName, bNum + 1), 'w')\n",
    "        for item in buckets[bNum]:\n",
    "            f.write(item)\n",
    "        f.close()"
   ]
  },
  {
   "cell_type": "code",
   "execution_count": null,
   "metadata": {
    "collapsed": true
   },
   "outputs": [],
   "source": []
  }
 ],
 "metadata": {
  "kernelspec": {
   "display_name": "Python 3",
   "language": "python",
   "name": "python3"
  },
  "language_info": {
   "codemirror_mode": {
    "name": "ipython",
    "version": 3
   },
   "file_extension": ".py",
   "mimetype": "text/x-python",
   "name": "python",
   "nbconvert_exporter": "python",
   "pygments_lexer": "ipython3",
   "version": "3.5.3"
  }
 },
 "nbformat": 4,
 "nbformat_minor": 2
}
